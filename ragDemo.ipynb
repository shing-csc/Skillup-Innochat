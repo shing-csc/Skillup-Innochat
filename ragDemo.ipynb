{
 "cells": [
  {
   "cell_type": "markdown",
   "metadata": {},
   "source": [
    "# 0. Setup\n",
    "\n",
    "### Import Required Libaried\n"
   ]
  },
  {
   "cell_type": "code",
   "execution_count": 1,
   "metadata": {},
   "outputs": [],
   "source": [
    "import os\n",
    "import openai\n",
    "\n",
    "from azure.core.credentials import AzureKeyCredential\n",
    "from azure.search.documents import SearchClient\n",
    "\n",
    "import dotenv \n",
    "#load the environment variables of .env file\n",
    "%load_ext dotenv\n",
    "%dotenv"
   ]
  },
  {
   "cell_type": "markdown",
   "metadata": {},
   "source": [
    "### Setup Azure Credentials\n"
   ]
  },
  {
   "cell_type": "code",
   "execution_count": 2,
   "metadata": {},
   "outputs": [],
   "source": [
    "# Setup the required credential for using Azure cognitive search\n",
    "search_endpoint = f\"https://{os.getenv('AZURE_SEARCH_SERVICE')}.search.windows.net/\"\n",
    "search_creds = AzureKeyCredential(os.getenv(\"AZURE_SEARCH_KEY\"))\n",
    "search_client = SearchClient(endpoint=search_endpoint,\n",
    "                                index_name=os.getenv(\"AZURE_SEARCH_INDEX\"),\n",
    "                                credential=search_creds)\n",
    "\n",
    "# Setup the required credential for using Azure OpenAI\n",
    "openai.api_type = \"azure\"\n",
    "openai.api_key = os.getenv(\"AZURE_OPENAI_KEY\")     \n",
    "openai.api_base = os.getenv(\"AZURE_OPENAI_ENDPOINT\")\n",
    "openai.api_version = \"2023-05-15\""
   ]
  },
  {
   "cell_type": "markdown",
   "metadata": {},
   "source": [
    "### Setup Embedding model\n"
   ]
  },
  {
   "cell_type": "code",
   "execution_count": 3,
   "metadata": {},
   "outputs": [],
   "source": [
    "def compute_embedding(text):\n",
    "    return openai.Embedding.create(engine=\"embedding\", input=text)[\"data\"][0][\"embedding\"]\n",
    "\n",
    "def nonewlines(s: str) -> str:\n",
    "    return s.replace(' ', ' ').replace('\\r', ' ')"
   ]
  },
  {
   "cell_type": "markdown",
   "metadata": {},
   "source": [
    "# 1. Using ChatGPT Through calling API"
   ]
  },
  {
   "cell_type": "code",
   "execution_count": 9,
   "metadata": {},
   "outputs": [
    {
     "data": {
      "text/plain": [
       "'Ed Sheeran is an English singer, songwriter, musician, and actor. He was born on February 17, 1991, in Halifax, West Yorkshire, England. Sheeran gained popularity in 2011 with his debut album \"+\", which included hit singles like \"The A Team\" and \"Lego House\". He has since released several successful albums, including \"X\" (2014) and \"÷\" (2017), which featured chart-topping songs like \"Shape of You\" and \"Perfect\". Sheeran is known for his acoustic guitar-driven pop songs and his soulful voice. He has won numerous awards, including multiple Grammy Awards, and has achieved global success as one of the best-selling music artists in the world.'"
      ]
     },
     "execution_count": 9,
     "metadata": {},
     "output_type": "execute_result"
    }
   ],
   "source": [
    "#change the query to what you want to ask chatGPT\n",
    "query = \"Who is Ed Sheeran??\"\n",
    "\n",
    "messages = [\n",
    "    {'role' : 'user', 'content' : query }\n",
    "]\n",
    "\n",
    "chat_completion = openai.ChatCompletion.create(\n",
    "    deployment_id=\"chat\",\n",
    "    model=\"gpt-35-turbo\",\n",
    "    messages=messages, \n",
    "    temperature=0.7, \n",
    "    max_tokens=1024, \n",
    "    n=1)\n",
    "\n",
    "chat_content = chat_completion.choices[0].message.content\n",
    "chat_content"
   ]
  },
  {
   "cell_type": "markdown",
   "metadata": {},
   "source": [
    "### Modifying the role of ChatGPT \n",
    "- Adding system message\n",
    "- Adding few shot example"
   ]
  },
  {
   "cell_type": "code",
   "execution_count": 5,
   "metadata": {},
   "outputs": [
    {
     "name": "stdout",
     "output_type": "stream",
     "text": [
      "In fair academe, where knowledge doth reside,\n",
      "Where students gather, seeking wisdom's tide,\n",
      "There lies a realm of study and delight,\n",
      "Where intellect doth shine, a radiant light.\n",
      "\n",
      "The halls resound with scholarly discourse,\n",
      "As minds engage, inquisitive, of course.\n",
      "The lectures, like a symphony of thought,\n",
      "Inspire minds to grow, to learn, be taught.\n",
      "\n",
      "From dusty tomes, the ancient wisdom gleams,\n",
      "As students delve into their chosen themes.\n",
      "Philosophy, with Socrates' wise voice,\n",
      "Invites us all to question and rejoice.\n",
      "\n",
      "In laboratories, science doth unfold,\n",
      "Experiments and hypotheses untold.\n",
      "With flask and microscope, we seek to find,\n",
      "The secrets of the world, both grand and kind.\n",
      "\n",
      "Yet university life, it hath its charms,\n",
      "Beyond the classroom, in its open arms.\n",
      "The friendships forged, a bond that shall endure,\n",
      "Through laughter, tears, and memories pure.\n",
      "\n",
      "The campus, with its vibrant tapestry,\n",
      "Of clubs and sports, a joyful jubilee.\n",
      "From theatre stages to the football field,\n",
      "A wealth of talents, mighty and concealed.\n",
      "\n",
      "But let us not forget the late-night grind,\n",
      "The papers written, deadlines intertwined.\n",
      "The sleepless nights, with coffee as our guide,\n",
      "As we navigate this scholarly tide.\n",
      "\n",
      "So let us raise our quills, our minds alight,\n",
      "In praise of university life's delight.\n",
      "Where knowledge blossoms, like a flower rare,\n",
      "And friendships thrive, beyond compare.\n"
     ]
    }
   ],
   "source": [
    "#change the query to what you want to ask chatGPT\n",
    "query = \"Write a poem about university life\"\n",
    "\n",
    "#change the systemMessage to how you want chatGPT to behave\n",
    "systemMessage = '''You are a Shakespearean writing assistant who speaks in a Shakespearean style. \n",
    "                    You help people come up with creative ideas and content like stories, poems, and songs that use Shakespearean style of writing style, including words like \"thou\" and \"hath”.\n",
    "                    Here are some example of Shakespeare's style:\n",
    "                    - Romeo, Romeo! Wherefore art thou Romeo?\n",
    "                    - Love looks not with the eyes, but with the mind; and therefore is winged Cupid painted blind.\n",
    "                    - Shall I compare thee to a summer's day? Thou art more lovely and more temperate.'''\n",
    "\n",
    "messages = [\n",
    "    {'role' : 'system', 'content' : systemMessage},\n",
    "    #change the content here to your example question\n",
    "    {'role' : 'user', 'content' : 'Please write a short text turning down an invitation to dinner.'},\n",
    "    #change the content here to your example answer\n",
    "    {'role' : 'assistant', 'content' : '''Dearest,\n",
    "                                        Regretfully, I must decline thy invitation.\n",
    "                                        Prior engagements call me hence. Apologies.'''},\n",
    "    {'role' : 'user', 'content' : query }\n",
    "]\n",
    "\n",
    "chat_completion = openai.ChatCompletion.create(\n",
    "    deployment_id=\"chat\",\n",
    "    model=\"gpt-35-turbo\",\n",
    "    messages=messages, \n",
    "    temperature=0.7, \n",
    "    max_tokens=1024, \n",
    "    n=1)\n",
    "\n",
    "chat_content = chat_completion.choices[0].message.content\n",
    "print(chat_content)"
   ]
  },
  {
   "cell_type": "markdown",
   "metadata": {},
   "source": [
    "# 2. Implementing a RAG model\n",
    "\n",
    "### Obtain related information using vector search"
   ]
  },
  {
   "cell_type": "code",
   "execution_count": 15,
   "metadata": {},
   "outputs": [
    {
     "name": "stdout",
     "output_type": "stream",
     "text": [
      "The_Innovation_Wings-3.pdf:   In this group, we plan to pursue several interdisciplinary projects that will improve the ways we can study and teach about the human past. Our projects will include uses of augmented and virtual reality in recording, teaching, and presenting archaeological sites. We are also studying the use of machine learning and computer vision for several purposes to study visual datasets such as satellite images of ancient landscapes. We work with a field project that travels to Armenia each summer to excavate. We welcome anyone who would like to join our team, from any Faculty. We especially invite engineers and computer scientists, but we also have many other projects which anyone with an interest can join. Let’s learn about the human past together! Thank you! SIG – HKU Astar (formerly RoboMaster ICRA AI Challenge)  HKU Astar is a student group who participates in Robomaster University AI Challenge Competition. Robomaster University AI Challenge is an AI-based robotics competition for university students held by DJI and IEEE International Conference on Robotics and Automation.\n",
      "The_Innovation_Wings-1.pdf:  Not only to gain a lot of hands-on experience, by joining us, you could improve your mechanical skills and learn and apply electrical and computer science skills. With the support of Innovation Wing, we plan to join competitions to test our knowledge and skills, also to learn from other teams and gain valuable experience. In 2022, the team build the system based on the rules of AUVSI SUAS 2023. The AUVSI SUAS Competition is a yearly event, designed to stimulate interest in UAS technologies and careers, and to engage students in a challenging UAS mission. SIG – Smart Elderly Walker  This project aims to develop the set of technologies to achieve convenient-to-use mobility support for daily use of the elderly. In this project, we are developing a smart elderly walker which is intended to play an active role in an elderly person’s daily life, with three fundamental functionalities that do not exist or not well supported by (smart) walkers in the market: smart walking assistance; falling prevention and support; autonomous mobility.\n",
      "The_Innovation_Wings-3.pdf: second-quantum revolution, which will see the counter intuitive properties of quantum systems such as superposition and entanglement, being applied for commercial technologies such as quantum computing, quantum sensing, and quantum communications. Quantum Computing is mostly taught to undergraduates in a classroom focusing mostly on theoretical and mathematical concepts with minimal laboratory components. This is primarily because research laboratories working in quantum science are too expensive, bulky, and complicated to be used for undergraduate teaching purposes. We wish to bridge that gap by building a compact, user-friendly, interactive setup to introduce quantum physics to a younger non-expert audience. The goal of the project is to create a curriculum for quantum technology, a sustainable education model, with an in-class demonstration kit for quantum science education. SIG – Engineering and Archaeology  We are forming a new interest group at the Innovation Wing, as a collaboration with humanities and educational researchers at HKU.  In this group, we plan to pursue several interdisciplinary projects that will improve the ways we can study and teach about the human past.\n"
     ]
    }
   ],
   "source": [
    "#change the query to what you want to ask the RAG model\n",
    "query = \"Generate a study plan for studying Python from begineer to advanced.\"\n",
    "query_vector = compute_embedding(query)\n",
    "\n",
    "r = search_client.search(query, \n",
    "                        top=3, \n",
    "                        vector=query_vector, \n",
    "                        top_k=50, \n",
    "                        vector_fields=\"embedding\")\n",
    "\n",
    "results = [doc[\"sourcepage\"] + \": \" + nonewlines(doc[\"content\"]) for doc in r]\n",
    "\n",
    "for result in results:\n",
    "    print(result)"
   ]
  },
  {
   "cell_type": "markdown",
   "metadata": {},
   "source": [
    "### Query the GPT model with query + information"
   ]
  },
  {
   "cell_type": "code",
   "execution_count": 21,
   "metadata": {},
   "outputs": [
    {
     "name": "stdout",
     "output_type": "stream",
     "text": [
      "{\n",
      "    \"subject\": \"Python\",\n",
      "    \"plan\": {\n",
      "        \"chapters\": {\n",
      "            \"1\": {\n",
      "                \"name\": \"Introduction to Python\",\n",
      "                \"time\": \"60\",\n",
      "                \"links\": [\"www.python.org\", \"www.w3schools.com/python\"]\n",
      "            },\n",
      "            \"2\": {\n",
      "                \"name\": \"Variables and Data Types\",\n",
      "                \"time\": \"60\",\n",
      "                \"links\": [\"www.w3schools.com/python/python_variables.php\"]\n",
      "            },\n",
      "            \"3\": {\n",
      "                \"name\": \"Control Flow\",\n",
      "                \"time\": \"60\",\n",
      "                \"links\": [\"www.programiz.com/python-programming/if-elif-else\"]\n",
      "            },\n",
      "            \"4\": {\n",
      "                \"name\": \"Functions\",\n",
      "                \"time\": \"60\",\n",
      "                \"links\": [\"www.learnpython.org/en/Functions\"]\n",
      "            },\n",
      "            \"5\": {\n",
      "                \"name\": \"Lists and Tuples\",\n",
      "                \"time\": \"60\",\n",
      "                \"links\": [\"www.w3schools.com/python/python_lists.php\"]\n",
      "            },\n",
      "            \"6\": {\n",
      "                \"name\": \"Dictionaries\",\n",
      "                \"time\": \"60\",\n",
      "                \"links\": [\"www.learnpython.org/en/Dictionaries\"]\n",
      "            },\n",
      "            \"7\": {\n",
      "                \"name\": \"File Handling\",\n",
      "                \"time\": \"60\",\n",
      "                \"links\": [\"www.w3schools.com/python/python_file_handling.php\"]\n",
      "            },\n",
      "            \"8\": {\n",
      "                \"name\": \"Modules and Packages\",\n",
      "                \"time\": \"60\",\n",
      "                \"links\": [\"www.programiz.com/python-programming/modules\"]\n",
      "            },\n",
      "            \"9\": {\n",
      "                \"name\": \"Error Handling\",\n",
      "                \"time\": \"60\",\n",
      "                \"links\": [\"www.w3schools.com/python/python_try_except.php\"]\n",
      "            },\n",
      "            \"10\": {\n",
      "                \"name\": \"Object-Oriented Programming\",\n",
      "                \"time\": \"60\",\n",
      "                \"links\": [\"www.learnpython.org/en/Object_Oriented_Programming\"]\n",
      "            },\n",
      "            \"11\": {\n",
      "                \"name\": \"Advanced Topics\",\n",
      "                \"time\": \"60\",\n",
      "                \"links\": [\"www.python.org/dev/peps/pep-0008\"]\n",
      "            }\n",
      "        }\n",
      "    }\n",
      "}\n"
     ]
    }
   ],
   "source": [
    "#change the systemMessage to how you want chatGPT to behave\n",
    "                    #Answer ONLY with the facts listed in the list of sources below. \n",
    "systemMessage = \"\"\"\n",
    "                Assistant that ONLY answers JSON formatted response. You are a profession teacher that creates designated study plan for students with different needs.\n",
    "                Return a study plan in JSON format. Below is a situation and an example.\n",
    "                A student is studying Calculus 1. \n",
    "                Below is a general study plan for him in JSON format.\n",
    "                {\n",
    "                    \"subject\": \n",
    "                    \"plan\": {\n",
    "                        \"chapters\": {\n",
    "                            \"1\": {\n",
    "                                    \"name\": \"Limit and Continuity\",\n",
    "                                    \"time\": \"60\",\n",
    "                                    \"links\": [\"www.youtube.com\", \"www.facebook.com\"]\n",
    "                                },\n",
    "                            \"2\": {\n",
    "                                    \"name\": \"Differentiation\",\n",
    "                                    \"time\": \"60\",\n",
    "                                    \"links\": [\"www.youtube.com\", \"www.facebook.com\"]\n",
    "                                },\n",
    "                            }\n",
    "                        }\n",
    "                    },\n",
    "                    }\n",
    "                }\n",
    "                \"\"\"\n",
    "\n",
    "messages = [\n",
    "    {'role' : 'system', 'content' : systemMessage},\n",
    "    {'role' : 'user', 'content' : query + \"   Source:\" + \" \".join(results)}\n",
    "]\n",
    "\n",
    "chat_completion = openai.ChatCompletion.create(\n",
    "    deployment_id=\"chat\",\n",
    "    model=\"gpt-35-turbo\",\n",
    "    messages=messages, \n",
    "    temperature=0.7, \n",
    "    max_tokens=1024, \n",
    "    n=1)\n",
    "\n",
    "chat_content = chat_completion.choices[0].message.content\n",
    "\n",
    "import json\n",
    "def string_to_json_file(string, file_name):\n",
    "    string = json.loads(string)\n",
    "    with open(file_name, 'w') as json_file:\n",
    "        json.dump(string, json_file, indent=4)\n",
    "# new_content = chat_content.replace('\\\\', '')\n",
    "# new_content = new_content.replace('\\n', '')\n",
    "string_to_json_file(chat_content, \"output.json\")\n",
    "print(chat_content)"
   ]
  },
  {
   "cell_type": "code",
   "execution_count": null,
   "metadata": {},
   "outputs": [],
   "source": []
  }
 ],
 "metadata": {
  "kernelspec": {
   "display_name": "base",
   "language": "python",
   "name": "python3"
  },
  "language_info": {
   "codemirror_mode": {
    "name": "ipython",
    "version": 3
   },
   "file_extension": ".py",
   "mimetype": "text/x-python",
   "name": "python",
   "nbconvert_exporter": "python",
   "pygments_lexer": "ipython3",
   "version": "3.11.3"
  },
  "orig_nbformat": 4
 },
 "nbformat": 4,
 "nbformat_minor": 2
}
